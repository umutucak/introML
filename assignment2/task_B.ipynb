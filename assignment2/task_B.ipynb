{
 "cells": [
  {
   "cell_type": "markdown",
   "metadata": {},
   "source": [
    "# Tasks\n",
    "## Understanding the problem\n",
    "### Description\n",
    "**Cliff Walking** is a *single-agent*, *deterministic*, and *discrete* reinforcement learning problem.\n",
    "- Single agent means that there is only one agent. *aka not multi-agent*.\n",
    "- Deterministic means that given an action-state pair `(s, a)`, the transition function will always yield state `s'`. *aka not stochastic*.\n",
    "- Discrete means that there is a countable amount of actions and observations. *aka not continuous*.\n",
    "\n",
    "The *goal of the agent* is to go from the starting position to the target position without falling off the cliff.\n",
    "\n",
    "The *action space* is of shape (4,). The agent is equipped with 4 directional movements to navigate the environment.\n",
    "\n",
    "The *observation space* is of shape (48,). An observation represents the position of the agent on the map. There are 37 allowed states, and ` states the agent must avoid.\n",
    "\n",
    "The *reward* is: -1 for each step the agent takes, and -100 for falling off the cliff. No reward is necessary for reaching the goal as the target position represents the *terminal state*, meaning that for the agent to maximize its reward, it is implied that it must reach the target position.\n",
    "\n",
    "### Optimal policy\n",
    "The optimal policy to solve this problem would be to move right alongside the cliff and reach the finish point without going north, minimizing the travel cost.\n",
    "\n",
    "### Highest/Lowest reward achievable\n",
    "The **highest** reward achievable is -13, as the agent needs a minimum of 13 steps to reach the terminal state.\n",
    "\n",
    "*For the pre-configured parameters of this assignment*, the **lowest** reward achievable is -1099, as the agent can travel for 999 steps, and on their final 1000th step they can walk off the cliff for -100 reward."
   ]
  },
  {
   "cell_type": "markdown",
   "metadata": {},
   "source": [
    "## Baseline strategy: Equiprobable Random Policy"
   ]
  },
  {
   "cell_type": "code",
   "execution_count": 145,
   "metadata": {},
   "outputs": [],
   "source": [
    "import gymnasium as gym\n",
    "import matplotlib.pyplot as plt\n",
    "import time\n",
    "import random\n",
    "import numpy as np\n",
    "from typing_extensions import override"
   ]
  },
  {
   "cell_type": "code",
   "execution_count": 146,
   "metadata": {},
   "outputs": [],
   "source": [
    "RENDER_MODE = \"graphic\"  # choose between \"graphic\" or text;  graphic mode needs the pygame package to be installed\n",
    "RENDER_FREQUENCY = 0.2  # output the game state at most every X seconds\n",
    "\n",
    "env = gym.make('CliffWalking-v0', render_mode = \"rgb_array\" if RENDER_MODE == \"graphic\" else \"ansi\") # initialize the game"
   ]
  },
  {
   "cell_type": "code",
   "execution_count": 147,
   "metadata": {},
   "outputs": [],
   "source": [
    "# This is a dumb agent that applies a policy that makes it run in circles\n",
    "#   you can use this example agent class as a temple for implementing smarter ones\n",
    "# Feel free to add methods if you consider it necessary\n",
    "class DumbAgent():\n",
    "    def __init__(self):\n",
    "        self.previous_action = -1 # This agent needs to remember which direction he was going before so he can make nice circles\n",
    "\n",
    "    # decide what action to take in the provided state by applying a certain policy\n",
    "    def select_action(self, state):\n",
    "        new_action = (self.previous_action + 1) % 4 # this agents policy is to run in circles\n",
    "        self.previous_action = new_action\n",
    "        return new_action\n",
    "    \n",
    "    # do the learning (e.g. update the Q-values, or collect data to do off-policy learning)\n",
    "    def update(self, old_state, action, reward, new_state):\n",
    "        pass # this agent just does not learn anything \\_o_/\n",
    "\n",
    "    # reset the agent to its initial state after an epoch. Can also be used to perform learning after an epoch)\n",
    "    def reset(self, state):\n",
    "        self.previous_action = -1\n",
    "\n",
    "def to_coord(state_id):\n",
    "    # we return the (x, y) coorinates, in the description page the use [y, x] to describe the locations\n",
    "    return (state_id % 12, state_id // 12)\n",
    "\n",
    "actions = {\n",
    "    0: \"up\",\n",
    "    1: \"right\",\n",
    "    2: \"down\",\n",
    "    3: \"left\"\n",
    "}"
   ]
  },
  {
   "cell_type": "code",
   "execution_count": 148,
   "metadata": {},
   "outputs": [],
   "source": [
    "## Returns the number of steps taken and the ending reason (-1 if fallen off, 0 if survived but out of steps, 1 if reached goal)\n",
    "def run_episode(agent, max_steps = 1000, muted = False):\n",
    "    observation, info = env.reset() # restart the game\n",
    "    agent.reset()\n",
    "\n",
    "    for k in range(max_steps):\n",
    "        action = agent.select_action(observation)  # select an action based on the current state\n",
    "        new_observation, reward, terminated, truncated, info = env.step(action)  # perform the action and observe what happens \n",
    "        fallen_off_cliff = (reward == -100)  # Beware! we cannot check for cliff state because the environment automatically returns us to the starting position when falling off a cliff\n",
    "        goal_reached = terminated  # if we reach the goal state, the environment returns terminated = True \n",
    "\n",
    "        agent.update(observation, action, reward, new_observation)  # perform some learning if the agent is capable of it\n",
    "        agent.total_reward += reward\n",
    "\n",
    "        if goal_reached:\n",
    "            return k+1, 1, agent.total_reward  # we reached the goal\n",
    "        elif fallen_off_cliff:\n",
    "            \n",
    "            return k+1, -1, agent.total_reward # we fell off the cliff\n",
    "\n",
    "        observation = new_observation\n",
    "\n",
    "    return k+1, 0, agent.total_reward  # we survived but did not reach the goal"
   ]
  },
  {
   "cell_type": "code",
   "execution_count": 149,
   "metadata": {},
   "outputs": [],
   "source": [
    "def run_experiment(agent, episodes = 500):\n",
    "    win_count = 0\n",
    "    rewards = []\n",
    "    mute_output = False # you may want to mute the output if you run a lot of episodes\n",
    "\n",
    "    for _ in range(episodes):\n",
    "        steps, reason, reward = run_episode(agent, muted=mute_output)\n",
    "        rewards.append(reward)\n",
    "        if reason == 1:\n",
    "            win_count += 1\n",
    "    print(f\"Reached goal {win_count} times out of {episodes} games.\")\n",
    "    return win_count, rewards"
   ]
  },
  {
   "cell_type": "markdown",
   "metadata": {},
   "source": [
    "### Implement a new ERP Agent"
   ]
  },
  {
   "cell_type": "code",
   "execution_count": 150,
   "metadata": {},
   "outputs": [],
   "source": [
    "class ERPAgent(DumbAgent):\n",
    "    \"\"\"Agent with Equiprobable Random Policy\n",
    "    \"\"\"\n",
    "    @override\n",
    "    def __init__(self):\n",
    "        self.total_reward = 0\n",
    "        \n",
    "    @override\n",
    "    def select_action(self, obs):\n",
    "        \"\"\"Returns random action.\"\"\"\n",
    "        new_action = env.action_space.sample()\n",
    "        return new_action\n",
    "        \n",
    "    @override\n",
    "    def reset(self):\n",
    "        self.total_reward = 0"
   ]
  },
  {
   "cell_type": "code",
   "execution_count": 151,
   "metadata": {},
   "outputs": [],
   "source": [
    "def plot_agent_perf(rewards, episodes=500):\n",
    "    plt.scatter(x=range(episodes), y=rewards, label='reward')\n",
    "    plt.xlabel('episodes')\n",
    "    plt.ylabel('reward')\n",
    "    plt.legend()\n",
    "    plt.show()"
   ]
  },
  {
   "cell_type": "markdown",
   "metadata": {},
   "source": [
    "### Evaluate ERP Agent\n",
    "The random policy is not effective. The agent **very rarely reaches the goal once in 500 episodes**. Average reward across 500 episodes is printed below. Optimal reward is never reached."
   ]
  },
  {
   "cell_type": "code",
   "execution_count": 152,
   "metadata": {},
   "outputs": [
    {
     "name": "stdout",
     "output_type": "stream",
     "text": [
      "Reached goal 3 times out of 500 games.\n"
     ]
    },
    {
     "data": {
      "image/png": "[encoded data removed]",
      "text/plain": [
       "<Figure size 640x480 with 1 Axes>"
      ]
     },
     "metadata": {},
     "output_type": "display_data"
    },
    {
     "name": "stdout",
     "output_type": "stream",
     "text": [
      "average reward -110.244\n"
     ]
    }
   ],
   "source": [
    "agent = ERPAgent()\n",
    "wins, rewards = run_experiment(agent)\n",
    "plot_agent_perf(rewards)\n",
    "print(\"average reward\", sum(rewards)/len(rewards))\n",
    "env.close() # end the game"
   ]
  },
  {
   "cell_type": "markdown",
   "metadata": {},
   "source": [
    "## Q-Learning\n"
   ]
  },
  {
   "cell_type": "markdown",
   "metadata": {},
   "source": [
    "## Improving Q-Learning"
   ]
  }
 ],
 "metadata": {
  "kernelspec": {
   "display_name": ".venv",
   "language": "python",
   "name": "python3"
  },
  "language_info": {
   "codemirror_mode": {
    "name": "ipython",
    "version": 3
   },
   "file_extension": ".py",
   "mimetype": "text/x-python",
   "name": "python",
   "nbconvert_exporter": "python",
   "pygments_lexer": "ipython3",
   "version": "3.10.12"
  }
 },
 "nbformat": 4,
 "nbformat_minor": 2
}
